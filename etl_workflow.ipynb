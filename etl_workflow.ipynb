{
 "nbformat": 4,
 "nbformat_minor": 2,
 "metadata": {
  "language_info": {
   "name": "python",
   "codemirror_mode": {
    "name": "ipython",
    "version": 3
   },
   "version": "3.7.6-final"
  },
  "orig_nbformat": 2,
  "file_extension": ".py",
  "mimetype": "text/x-python",
  "name": "python",
  "npconvert_exporter": "python",
  "pygments_lexer": "ipython3",
  "version": 3,
  "kernelspec": {
   "name": "python37664bit6f05a9d87d634fde8bbc7cf2f0267e51",
   "display_name": "Python 3.7.6 64-bit"
  }
 },
 "cells": [
  {
   "cell_type": "markdown",
   "execution_count": null,
   "metadata": {},
   "outputs": [],
   "source": [
    "## Import scripts to ETL proccess "
   ]
  },
  {
   "cell_type": "code",
   "execution_count": 1,
   "metadata": {},
   "outputs": [],
   "source": [
    "import os\n",
    "from etl import staging as stg\n",
    "from etl import dm as dm"
   ]
  },
  {
   "cell_type": "markdown",
   "execution_count": null,
   "metadata": {},
   "outputs": [],
   "source": [
    "## Unified file with Dunnhumby transactions history "
   ]
  },
  {
   "cell_type": "code",
   "execution_count": 6,
   "metadata": {},
   "outputs": [],
   "source": [
    "input_files = os.listdir(\"data_structure/01_landing/\")"
   ]
  },
  {
   "cell_type": "code",
   "execution_count": 9,
   "metadata": {},
   "outputs": [],
   "source": [
    "for file in input_files:\n",
    "    stg.transactions(\"data_structure/01_landing/\" + file, \"data_structure/02_staging/stg_transactions.csv\")"
   ]
  },
  {
   "cell_type": "markdown",
   "execution_count": null,
   "metadata": {},
   "outputs": [],
   "source": [
    "## Customers with sensitivity price segments"
   ]
  },
  {
   "cell_type": "code",
   "execution_count": 2,
   "metadata": {},
   "outputs": [
    {
     "name": "stdout",
     "output_type": "stream",
     "text": "data_structure/02_staging/stg_transactions.csv already processed into data_structure/03_dm/dm_customers.csv\n"
    }
   ],
   "source": [
    "dm.customers(\"data_structure/02_staging/stg_transactions.csv\", \"data_structure/03_dm/dm_customers.csv\")"
   ]
  },
  {
   "cell_type": "markdown",
   "execution_count": null,
   "metadata": {},
   "outputs": [],
   "source": [
    "## Monthly Portfolio"
   ]
  },
  {
   "cell_type": "code",
   "execution_count": 3,
   "metadata": {},
   "outputs": [
    {
     "name": "stderr",
     "output_type": "stream",
     "text": "/mnt/c/Users/ps_mo/Documents/git_repos/dunnhumby_portfolio_management/etl/dm.py:165: SettingWithCopyWarning: \nA value is trying to be set on a copy of a slice from a DataFrame.\nTry using .loc[row_indexer,col_indexer] = value instead\n\nSee the caveats in the documentation: http://pandas.pydata.org/pandas-docs/stable/user_guide/indexing.html#returning-a-view-versus-a-copy\n  df_recency_lag['shop_month'] = df_recency_lag.apply(lambda x: month_lag_lead(x['shop_month'],'lead'),axis=1)\n"
    }
   ],
   "source": [
    "dm.monthly_portfolio(\"data_structure/02_staging/stg_transactions.csv\", \"data_structure/03_dm/dm_monthly_portfolio.csv\")"
   ]
  },
  {
   "cell_type": "markdown",
   "execution_count": null,
   "metadata": {},
   "outputs": [],
   "source": [
    "## Waterfall Portfolio "
   ]
  },
  {
   "cell_type": "code",
   "execution_count": null,
   "metadata": {},
   "outputs": [],
   "source": [
    "dm.monthly_portfolio(\"data_structure/03_dm/dm_monthly_portfolio.csv\", \"data_structure/03_dm/dm_portfolio_waterfall.csv\")"
   ]
  }
 ]
}